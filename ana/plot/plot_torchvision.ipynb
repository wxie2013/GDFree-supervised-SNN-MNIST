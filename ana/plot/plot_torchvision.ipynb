{
 "cells": [
  {
   "cell_type": "code",
   "execution_count": 1,
   "id": "2660795a-a93c-4ec7-963a-ed4deb4ac1c0",
   "metadata": {},
   "outputs": [],
   "source": [
    "from Brian2.tools.torchvision_data import *\n",
    "from brian2 import *"
   ]
  },
  {
   "cell_type": "code",
   "execution_count": 2,
   "id": "03036a45-62be-4319-ab31-ece46b964313",
   "metadata": {},
   "outputs": [],
   "source": [
    "idx_range_train = [0, 1000]\n",
    "idx_range_valid = [0, 1000]\n",
    "idx_range_test = [0, 1000]\n",
    "mnist = fetch_torchvision_data(idx_range_train[0], idx_range_train[1], \n",
    "                               idx_range_valid[0], idx_range_valid[1], \n",
    "                               idx_range_test[0], idx_range_test[1], \n",
    "                               'MNIST')\n",
    "data_train, data_valid, data_test = mnist.get_data_numpy()"
   ]
  },
  {
   "cell_type": "code",
   "execution_count": 3,
   "id": "28b1c900-2f3c-4822-b612-5bbb5b2a84ec",
   "metadata": {},
   "outputs": [],
   "source": [
    "def plot_MNIST(type, index):\n",
    "    '''\n",
    "    type:  train, valid, test\n",
    "    '''\n",
    "    if type == 'train':\n",
    "        input_data = data_train\n",
    "    elif type == 'valid':\n",
    "        input_data = data_valid\n",
    "    elif type == 'test':\n",
    "        input_data = data_test\n",
    "        \n",
    "    plt.imshow(input_data['img'][index], cmap='gray')\n",
    "    print('label for idx: ', index, '===> ', input_data['label'][index])"
   ]
  },
  {
   "cell_type": "code",
   "execution_count": 13,
   "id": "88f8aa55-0cd4-401b-885c-f3f17eadb1fb",
   "metadata": {},
   "outputs": [
    {
     "name": "stdout",
     "output_type": "stream",
     "text": [
      "label for idx:  8 ===>  5\n"
     ]
    },
    {
     "data": {
      "image/png": "[encoded data removed]",
      "text/plain": [
       "<Figure size 640x480 with 1 Axes>"
      ]
     },
     "metadata": {},
     "output_type": "display_data"
    }
   ],
   "source": [
    "plot_MNIST('test', 8)"
   ]
  },
  {
   "cell_type": "code",
   "execution_count": null,
   "id": "4488d3ba-2c6a-48a9-89c5-591b561634b5",
   "metadata": {},
   "outputs": [],
   "source": []
  },
  {
   "cell_type": "code",
   "execution_count": null,
   "id": "81a2f319-fa36-4412-9acf-cce2956b8dbb",
   "metadata": {},
   "outputs": [],
   "source": []
  }
 ],
 "metadata": {
  "kernelspec": {
   "display_name": "Python 3 (ipykernel)",
   "language": "python",
   "name": "python3"
  },
  "language_info": {
   "codemirror_mode": {
    "name": "ipython",
    "version": 3
   },
   "file_extension": ".py",
   "mimetype": "text/x-python",
   "name": "python",
   "nbconvert_exporter": "python",
   "pygments_lexer": "ipython3",
   "version": "3.12.5"
  }
 },
 "nbformat": 4,
 "nbformat_minor": 5
}
